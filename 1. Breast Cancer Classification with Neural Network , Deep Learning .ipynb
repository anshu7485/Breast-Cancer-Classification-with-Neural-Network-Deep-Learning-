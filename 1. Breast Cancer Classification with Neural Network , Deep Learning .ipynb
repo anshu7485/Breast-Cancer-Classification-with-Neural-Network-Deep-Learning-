{
 "cells": [
  {
   "cell_type": "markdown",
   "id": "a9b385ba",
   "metadata": {},
   "source": [
    "### Importing the Dependencies"
   ]
  },
  {
   "cell_type": "code",
   "execution_count": null,
   "id": "63bbe131",
   "metadata": {},
   "outputs": [],
   "source": [
    "import numpy as np\n",
    "import pandas as pd\n",
    "import matplotlib.pyplot as plt\n",
    "import seaborn as sns\n",
    "import sklearn"
   ]
  },
  {
   "cell_type": "code",
   "execution_count": null,
   "id": "d4c0b9cd",
   "metadata": {},
   "outputs": [],
   "source": [
    "from sklearn.model_selection import train_test_split"
   ]
  },
  {
   "cell_type": "markdown",
   "id": "a66721e5",
   "metadata": {},
   "source": [
    "### Data collection & Processing"
   ]
  },
  {
   "cell_type": "code",
   "execution_count": null,
   "id": "74949079",
   "metadata": {},
   "outputs": [],
   "source": [
    "# loading the dataset from sklearn\n",
    "\n",
    "from sklearn.datasets import load_breast_cancer\n",
    "breast_cancer_dataset=sklearn.datasets.load_breast_cancer()"
   ]
  },
  {
   "cell_type": "code",
   "execution_count": null,
   "id": "11989b67",
   "metadata": {},
   "outputs": [],
   "source": [
    "print(breast_cancer_dataset)"
   ]
  },
  {
   "cell_type": "code",
   "execution_count": null,
   "id": "974da69d",
   "metadata": {},
   "outputs": [],
   "source": [
    "# loading the data to a data frame\n",
    "data_frame=pd.DataFrame(breast_cancer_dataset.data, columns=breast_cancer_dataset.feature_names)"
   ]
  },
  {
   "cell_type": "code",
   "execution_count": null,
   "id": "f1deaa93",
   "metadata": {},
   "outputs": [],
   "source": [
    "data_frame.head()"
   ]
  },
  {
   "cell_type": "code",
   "execution_count": null,
   "id": "cb8db836",
   "metadata": {},
   "outputs": [],
   "source": [
    "data_frame.shape"
   ]
  },
  {
   "cell_type": "code",
   "execution_count": null,
   "id": "d0351fee",
   "metadata": {},
   "outputs": [],
   "source": [
    "# adding the 'target' column to the data frame\n",
    "data_frame['label']=breast_cancer_dataset.target"
   ]
  },
  {
   "cell_type": "code",
   "execution_count": null,
   "id": "0473bc1e",
   "metadata": {},
   "outputs": [],
   "source": [
    "data_frame.tail()"
   ]
  },
  {
   "cell_type": "code",
   "execution_count": null,
   "id": "49586a3e",
   "metadata": {},
   "outputs": [],
   "source": [
    "data_frame.shape"
   ]
  },
  {
   "cell_type": "code",
   "execution_count": null,
   "id": "164ca06f",
   "metadata": {},
   "outputs": [],
   "source": [
    "# getting the some information about the data\n",
    "data_frame.info()"
   ]
  },
  {
   "cell_type": "code",
   "execution_count": null,
   "id": "d33e9c8d",
   "metadata": {},
   "outputs": [],
   "source": [
    "# checking for missing values\n",
    "data_frame.isnull().sum()"
   ]
  },
  {
   "cell_type": "code",
   "execution_count": null,
   "id": "5acf38e2",
   "metadata": {},
   "outputs": [],
   "source": [
    "# statistical measures about the data\n",
    "data_frame.describe()"
   ]
  },
  {
   "cell_type": "code",
   "execution_count": null,
   "id": "0fdf9a2d",
   "metadata": {},
   "outputs": [],
   "source": [
    "# checking the distribution of target variable\n",
    "data_frame['label'].value_counts()"
   ]
  },
  {
   "cell_type": "code",
   "execution_count": null,
   "id": "a279a7f6",
   "metadata": {},
   "outputs": [],
   "source": [
    "data_frame.groupby('label').mean()"
   ]
  },
  {
   "cell_type": "markdown",
   "id": "206edf5c",
   "metadata": {},
   "source": [
    "### Separating the features and target"
   ]
  },
  {
   "cell_type": "code",
   "execution_count": null,
   "id": "e45daafe",
   "metadata": {},
   "outputs": [],
   "source": [
    "x=data_frame.drop(columns='label',axis=1)\n",
    "y=data_frame['label']"
   ]
  },
  {
   "cell_type": "code",
   "execution_count": null,
   "id": "5ac42ad5",
   "metadata": {},
   "outputs": [],
   "source": [
    "print(x)"
   ]
  },
  {
   "cell_type": "code",
   "execution_count": null,
   "id": "15f240da",
   "metadata": {},
   "outputs": [],
   "source": [
    "print(y)"
   ]
  },
  {
   "cell_type": "code",
   "execution_count": null,
   "id": "ba8de9d3",
   "metadata": {},
   "outputs": [],
   "source": [
    "x_train,x_test,y_train,y_test=train_test_split(x,y,test_size=0.2,random_state=2)"
   ]
  },
  {
   "cell_type": "code",
   "execution_count": null,
   "id": "9346b6e6",
   "metadata": {},
   "outputs": [],
   "source": [
    "print(x.shape,x_train.shape, x_test.shape)"
   ]
  },
  {
   "cell_type": "markdown",
   "id": "a2a8637f",
   "metadata": {},
   "source": [
    "### standardize the data"
   ]
  },
  {
   "cell_type": "code",
   "execution_count": null,
   "id": "6abc2b44",
   "metadata": {},
   "outputs": [],
   "source": [
    "from sklearn.preprocessing import StandardScaler"
   ]
  },
  {
   "cell_type": "code",
   "execution_count": null,
   "id": "e679eb97",
   "metadata": {},
   "outputs": [],
   "source": [
    "scaler=StandardScaler()\n",
    "\n",
    "x_train_std=scaler.fit_transform(x_train)\n",
    "\n",
    "x_test_std=scaler.fit_transform(x_test)\n"
   ]
  },
  {
   "cell_type": "code",
   "execution_count": null,
   "id": "3894bb54",
   "metadata": {},
   "outputs": [],
   "source": [
    "print(x_train_std)"
   ]
  },
  {
   "cell_type": "code",
   "execution_count": null,
   "id": "3b467580",
   "metadata": {},
   "outputs": [],
   "source": []
  },
  {
   "cell_type": "code",
   "execution_count": null,
   "id": "8760f9ce",
   "metadata": {},
   "outputs": [],
   "source": []
  },
  {
   "cell_type": "code",
   "execution_count": null,
   "id": "aaacda46",
   "metadata": {},
   "outputs": [],
   "source": [
    "!pip uninstall tensorflow"
   ]
  },
  {
   "cell_type": "markdown",
   "id": "3245f2a9",
   "metadata": {},
   "source": [
    "### Building the Neural Network"
   ]
  },
  {
   "cell_type": "code",
   "execution_count": null,
   "id": "f2298564",
   "metadata": {},
   "outputs": [],
   "source": [
    "# importing  tensorflow and keras\n",
    "import tensorflow as tf\n",
    "tf.random.set_seed(3)\n",
    "from tensorflow import keras"
   ]
  },
  {
   "cell_type": "code",
   "execution_count": null,
   "id": "0fb474fd",
   "metadata": {},
   "outputs": [],
   "source": [
    "# setting up the layers of Neural Network\n",
    "\n",
    "model = keras.Sequential([\n",
    "                          keras.layers.Flatten(input_shape=(30,)), # input layer\n",
    "                          keras.layers.Dense(20, activation='relu'),# hidden layer\n",
    "#                         keras.layers.Dense(30, activation='sigmoid'),\n",
    "                          keras.layers.Dense(2, activation='sigmoid') # output layer\n",
    "])"
   ]
  },
  {
   "cell_type": "code",
   "execution_count": null,
   "id": "bcd34082",
   "metadata": {},
   "outputs": [],
   "source": [
    "# compiling the neural network\n",
    "\n",
    "model.compile(optimizer='adam', \n",
    "             loss='sparse_categorical_crossentropy',\n",
    "             metrics=[\"accuracy\"])"
   ]
  },
  {
   "cell_type": "code",
   "execution_count": null,
   "id": "30018ec6",
   "metadata": {},
   "outputs": [],
   "source": [
    "# training the neural network\n",
    "\n",
    "history=model.fit(x_train_std,y_train,validation_split=0.1,epochs=10)"
   ]
  },
  {
   "cell_type": "markdown",
   "id": "bb49aac1",
   "metadata": {},
   "source": [
    "### visualizing accuracy and loss"
   ]
  },
  {
   "cell_type": "code",
   "execution_count": null,
   "id": "cbe830db",
   "metadata": {},
   "outputs": [],
   "source": [
    "plt.plot(history.history['accuracy'])\n",
    "\n",
    "plt.plot(history.history['val_accuracy'])\n",
    "\n",
    "plt.title('model accuracy')\n",
    "plt.ylabel('accuracy')\n",
    "plt.xlabel('epoch')\n",
    "plt.legend(['training data','validation data'],loc='lower right')\n"
   ]
  },
  {
   "cell_type": "code",
   "execution_count": null,
   "id": "31b554ba",
   "metadata": {},
   "outputs": [],
   "source": [
    "plt.plot(history.history['loss'])\n",
    "\n",
    "plt.plot(history.history['val_loss'])\n",
    "\n",
    "plt.title('model loss')\n",
    "plt.ylabel('loss')\n",
    "plt.xlabel('epoch')\n",
    "plt.legend(['training data','validation data'],loc='upper right')"
   ]
  },
  {
   "cell_type": "markdown",
   "id": "59a45903",
   "metadata": {},
   "source": [
    "### Accuracy of the model on test data"
   ]
  },
  {
   "cell_type": "code",
   "execution_count": null,
   "id": "b75cef05",
   "metadata": {},
   "outputs": [],
   "source": [
    "loss , accuracy=model.evaluate(x_test_std,y_test)\n",
    "print(accuracy)"
   ]
  },
  {
   "cell_type": "code",
   "execution_count": null,
   "id": "8129c3ae",
   "metadata": {},
   "outputs": [],
   "source": [
    "print(x_test_std.shape)\n",
    "\n",
    "print(x_test_std[0])\n"
   ]
  },
  {
   "cell_type": "code",
   "execution_count": null,
   "id": "1feaff94",
   "metadata": {},
   "outputs": [],
   "source": [
    "y_pred= model.predict(x_test_std)"
   ]
  },
  {
   "cell_type": "code",
   "execution_count": null,
   "id": "e80eedbd",
   "metadata": {},
   "outputs": [],
   "source": [
    "print(y_pred.shape)\n",
    "print(y_pred[0])"
   ]
  },
  {
   "cell_type": "code",
   "execution_count": null,
   "id": "539542a7",
   "metadata": {},
   "outputs": [],
   "source": [
    "print(x_test_std)"
   ]
  },
  {
   "cell_type": "code",
   "execution_count": null,
   "id": "dad39ef1",
   "metadata": {},
   "outputs": [],
   "source": [
    "print(y_pred)"
   ]
  },
  {
   "cell_type": "markdown",
   "id": "e102e93c",
   "metadata": {},
   "source": [
    "#### model.predict() gives the prediction probability of each class for that data point"
   ]
  },
  {
   "cell_type": "code",
   "execution_count": null,
   "id": "ebd85294",
   "metadata": {},
   "outputs": [],
   "source": [
    "# .................. for example....................\n",
    "# argmax function\n",
    "\n",
    "my_list=[10,50,20,30]\n",
    "index_of_max_value=np.argmax(my_list)\n",
    "print(my_list)\n",
    "print(index_of_max_value)"
   ]
  },
  {
   "cell_type": "code",
   "execution_count": null,
   "id": "71feb53c",
   "metadata": {},
   "outputs": [],
   "source": [
    "# coverting the prediction probability to class labels\n",
    "\n",
    "y_pred_labels=[np.argmax(i) for i in y_pred]\n",
    "print(y_pred_labels)"
   ]
  },
  {
   "cell_type": "markdown",
   "id": "f72ca269",
   "metadata": {},
   "source": [
    "### Building the prediction system"
   ]
  },
  {
   "cell_type": "code",
   "execution_count": null,
   "id": "ad843242",
   "metadata": {},
   "outputs": [],
   "source": [
    "input_data=(20.57,17.77,132.9,1326,0.08474,0.07864,0.0869,0.07017,0.1812,0.05667,0.5435,0.7339,3.398,74.08,0.005225,0.01308,0.0186,0.0134,0.01389,0.003532,24.99,23.41,158.8,1956,0.1238,0.1866,0.2416,0.186,0.275,0.08902)\n",
    "\n",
    "# change the data input_data to a numpy array\n",
    "\n",
    "input_data_as_numpy_array=np.asarray(input_data)\n",
    "\n",
    "# reshape the numpy array as we are predictihg for one data point \n",
    "input_data_reshaped = input_data_as_numpy_array.reshape(1,-1)\n",
    "# standardizing the input data\n",
    "\n",
    "input_data_std=scaler.transform(input_data_reshaped)\n",
    "\n",
    "prediction =model.predict(input_data_std)\n",
    "print(prediction)\n",
    "\n",
    "prediction_label=[np.argmax(prediction)]\n",
    "print(prediction_label)\n",
    "\n",
    "if(prediction_label[0]==0):\n",
    "    print('the tumor is Malignant')\n",
    "else:\n",
    "    print('the tumor is Benign')"
   ]
  },
  {
   "cell_type": "code",
   "execution_count": null,
   "id": "ab0e201e",
   "metadata": {},
   "outputs": [],
   "source": [
    "input_data=(13.03,18.42,82.61,523.8,0.08983,0.03766,0.02562,0.02923,0.1467,0.05863,0.1839,2.342,1.17,14.16,0.004352,0.004899,0.01343,0.01164,0.02671,0.001777,13.3,22.81,84.46,545.9,0.09701,0.04619,0.04833,0.05013,0.1987,0.06169)\n",
    "\n",
    "# change the data input_data to a numpy array\n",
    "\n",
    "input_data_as_numpy_array=np.asarray(input_data)\n",
    "\n",
    "# reshape the numpy array as we are predictihg for one data point \n",
    "input_data_reshaped = input_data_as_numpy_array.reshape(1,-1)\n",
    "# standardizing the input data\n",
    "\n",
    "input_data_std=scaler.transform(input_data_reshaped)\n",
    "\n",
    "prediction =model.predict(input_data_std)\n",
    "print(prediction)\n",
    "\n",
    "prediction_label=[np.argmax(prediction)]\n",
    "print(prediction_label)\n",
    "\n",
    "if(prediction_label[0]==0):\n",
    "    print('the tumor is Malignant')\n",
    "else:\n",
    "    print('the tumor is Benign')"
   ]
  },
  {
   "cell_type": "code",
   "execution_count": null,
   "id": "b4fc4386",
   "metadata": {},
   "outputs": [],
   "source": []
  },
  {
   "cell_type": "code",
   "execution_count": null,
   "id": "0669cb7b",
   "metadata": {},
   "outputs": [],
   "source": []
  }
 ],
 "metadata": {
  "kernelspec": {
   "display_name": "Python 3 (ipykernel)",
   "language": "python",
   "name": "python3"
  },
  "language_info": {
   "codemirror_mode": {
    "name": "ipython",
    "version": 3
   },
   "file_extension": ".py",
   "mimetype": "text/x-python",
   "name": "python",
   "nbconvert_exporter": "python",
   "pygments_lexer": "ipython3",
   "version": "3.11.5"
  }
 },
 "nbformat": 4,
 "nbformat_minor": 5
}
